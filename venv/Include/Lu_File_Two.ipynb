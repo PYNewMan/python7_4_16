{
 "cells": [
  {
   "cell_type": "code",
   "execution_count": null,
   "metadata": {
    "collapsed": true
   },
   "outputs": [],
   "source": [
    "class Student(object):\n",
    "    def __init__(self,name,age,socres):\n",
    "        self.name = name\n",
    "        self.age = age\n",
    "        self.socres = socres\n",
    "        \n",
    "    def get_name(self):\n",
    "        return  self.name\n",
    "    \n",
    "    def get_age(self):\n",
    "        return self.age\n",
    "    \n",
    "    def get_sorces(self):\n",
    "        return  max(self.socres)\n",
    "\n",
    "Message = Student(\"LU\",70,[23,44,79])\n",
    "print(Message.get_sorces())"
   ]
  }
 ],
 "metadata": {
  "kernelspec": {
   "display_name": "Python 2",
   "language": "python",
   "name": "python2"
  },
  "language_info": {
   "codemirror_mode": {
    "name": "ipython",
    "version": 2
   },
   "file_extension": ".py",
   "mimetype": "text/x-python",
   "name": "python",
   "nbconvert_exporter": "python",
   "pygments_lexer": "ipython2",
   "version": "2.7.6"
  }
 },
 "nbformat": 4,
 "nbformat_minor": 0
}
